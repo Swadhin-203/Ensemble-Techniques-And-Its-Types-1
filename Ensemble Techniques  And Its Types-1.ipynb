{
 "cells": [
  {
   "cell_type": "markdown",
   "id": "89f5bed1-1fa2-4e9a-b0c1-094ae9c027e2",
   "metadata": {},
   "source": [
    "# Q1. What is an ensemble technique in machine learning?\n",
    "In machine learning, an ensemble technique is a method of combining multiple individual models to create a more robust and accurate model. The basic idea behind ensemble methods is that by combining the predictions of multiple models, the overall performance can be improved compared to using any individual model alone.\n",
    "\n",
    "Ensemble techniques can be applied to various types of machine learning models, including decision trees, support vector machines, neural networks, and more. The two main types of ensemble methods are:\n",
    "\n",
    "1. **Bagging (Bootstrap Aggregating):**\n",
    "   - Bagging involves training multiple instances of the same learning algorithm on different subsets of the training data. Each model in the ensemble is trained independently, and their predictions are typically combined by averaging (for regression problems) or by voting (for classification problems).\n",
    "   - The training subsets are created through bootstrap sampling, where each subset is randomly sampled with replacement from the original training data.\n",
    "   - Examples of bagging algorithms include Random Forest for decision trees.\n",
    "\n",
    "2. **Boosting:**\n",
    "   - Boosting focuses on training a sequence of weak learners (models that are slightly better than random guessing) and giving more weight to examples that are misclassified by the previous models in the sequence.\n",
    "   - The final prediction is typically a weighted sum of the individual weak learner predictions.\n",
    "   - Examples of boosting algorithms include AdaBoost, Gradient Boosting, and XGBoost.\n",
    "\n",
    "Ensemble techniques offer several advantages, including improved generalization performance, increased robustness, and better handling of complex relationships in the data. They are particularly useful when individual models have complementary strengths and weaknesses.\n",
    "\n",
    "Popular ensemble methods include Random Forests, AdaBoost, Gradient Boosting Machines (GBM), XGBoost, and Stacking. Each of these methods has its own variations and parameters that can be tuned to achieve optimal performance for specific tasks."
   ]
  },
  {
   "cell_type": "markdown",
   "id": "8a52fa71-0309-4d0c-a4c6-b81aae73b155",
   "metadata": {},
   "source": [
    "# Q2. Why are ensemble techniques used in machine learning?\n",
    "Ensemble techniques are used in machine learning for several reasons, and they offer several advantages that contribute to improved model performance and robustness. Here are some key reasons why ensemble techniques are widely used:\r\n",
    "\r\n",
    "1. **Improved Generalization:**\r\n",
    "   - Ensemble methods often lead to improved generalization performance by reducing overfitting. Individual models might overfit the training data, but by combining multiple models, the ensemble tends to capture more robust patterns in the data.\r\n",
    "\r\n",
    "2. **Increased Robustness:**\r\n",
    "   - Ensembles are more robust to noise and outliers in the data. Outliers or misclassified examples in one model are less likely to significantly impact the overall prediction when combined with predictions from other models.\r\n",
    "\r\n",
    "3. **Reduction of Variance:**\r\n",
    "   - Ensemble methods, especially bagging techniques like Random Forests, help reduce variance in the predictions. By training multiple models on different subsets of the data, the overall variance is decreased, leading to more stable and reliable predictions.\r\n",
    "\r\n",
    "4. **Handling Complex Relationships:**\r\n",
    "   - Ensembles are effective in capturing complex relationships and patterns in the data. By combining the strengths of different models, ensembles can better handle intricate and non-linear relationships that may be challenging for individual models.\r\n",
    "\r\n",
    "5. **Mitigation of Model Bias:**\r\n",
    "   - Ensembles can help mitigate the bias of individual models. If models have different sources of bias, combining them can lead to a more balanced and less biased prediction.\r\n",
    "\r\n",
    "6. **Versatility Across Algorithms:**\r\n",
    "   - Ensemble techniques are versatile and can be applied to a wide range of machine learning algorithms. Whether it's decision trees, support vector machines, or neural networks, ensembles can be constructed to enhance the performance of various base models.\r\n",
    "\r\n",
    "7. **Adaptability to Diverse Data:**\r\n",
    "   - Ensembles are capable of adapting to diverse types of data and learning tasks. They can be effective for both classification and regression problems, making them versatile in different domains.\r\n",
    "\r\n",
    "8. **Easy Parallelization:**\r\n",
    "   - Many ensemble algorithms, especially bagging methods, can be easily parallelized. This makes them computationally efficient, especially when dealing with large datasets.\r\n",
    "\r\n",
    "9. **State-of-the-Art Performance:**\r\n",
    "   - Ensemble methods, particularly advanced algorithms like Gradient Boosting and XGBoost, have demonstrated state-of-the-art performance in various machine learning competitions and real-world applications.\r\n",
    "\r\n",
    "Overall, ensemble techniques are a powerful tool in the machine learning toolkit, providing a practical means to enhance model performance and address challenges associated with individual models. The choice of the specific ensemble method often depends on the nature of the data and the underlying characteristics of the problem at hand."
   ]
  },
  {
   "cell_type": "markdown",
   "id": "9e67e862-f818-48b1-b48c-3605df7171ed",
   "metadata": {},
   "source": [
    "# Q3. What is bagging?\n",
    "Bagging, which stands for Bootstrap Aggregating, is an ensemble technique in machine learning that involves training multiple instances of the same learning algorithm on different subsets of the training data and then combining their predictions. The primary goal of bagging is to reduce overfitting and improve the generalization performance of the model.\r\n",
    "\r\n",
    "Here's a step-by-step explanation of how bagging works:\r\n",
    "\r\n",
    "1. **Bootstrap Sampling:**\r\n",
    "   - Bagging starts by creating multiple subsets of the original training data through a process called bootstrap sampling.\r\n",
    "   - Bootstrap sampling involves randomly sampling with replacement from the original training dataset to create multiple subsets. Each subset has the same size as the original dataset, but individual examples may be duplicated or omitted.\r\n",
    "\r\n",
    "2. **Model Training:**\r\n",
    "   - For each subset (also called a \"bag\"), a model is trained independently using the chosen learning algorithm. Since the subsets are created through random sampling with replacement, each model sees a slightly different version of the training data.\r\n",
    "\r\n",
    "3. **Model Independence:**\r\n",
    "   - The independence of the models is crucial to the effectiveness of bagging. Because each model is trained on a different subset, they are likely to make different errors and capture different patterns in the data.\r\n",
    "\r\n",
    "4. **Combining Predictions:**\r\n",
    "   - Once all models are trained, their predictions are combined to make the final prediction. The combination process varies depending on whether the problem is a classification or regression task.\r\n",
    "     - For classification tasks, a common approach is to use a majority voting scheme. The final prediction is the class that receives the most votes from the individual models.\r\n",
    "     - For regression tasks, the final prediction is often the average or median of the individual model predictions.\r\n",
    "\r\n",
    "5. **Reducing Variance:**\r\n",
    "   - The key benefit of bagging is that it helps reduce the variance of the model. By training models on different subsets of the data, the overall model is less sensitive to noise or outliers in any particular subset.\r\n",
    "\r\n",
    "6. **Random Forests:**\r\n",
    "   - One of the most well-known and widely used bagging algorithms is the Random Forest algorithm. It applies bagging to decision trees, where each tree is trained on a different subset of the data, and their predictions are combined through majority voting.\r\n",
    "\r\n",
    "Bagging is a versatile technique and can be applied to various learning algorithms, not just decision trees. It is an effective strategy for creating stable and robust models, especially in situations where individual models may overfit the training data."
   ]
  },
  {
   "cell_type": "markdown",
   "id": "8ffc1219-0cdd-4f3b-9d84-24b69d6b5f21",
   "metadata": {},
   "source": [
    "# Q4. What is boosting?\n",
    "Boosting is another ensemble technique in machine learning that aims to improve the performance of weak learners (models that are only slightly better than random guessing) by combining them in a sequential manner. Unlike bagging, which trains models independently and in parallel, boosting trains models sequentially, with each new model focusing on correcting the errors of its predecessors. The primary goal of boosting is to create a strong learner that performs well on the overall dataset.\n",
    "\n",
    "Here's a step-by-step explanation of how boosting works:\n",
    "\n",
    "1. **Base Model Training:**\n",
    "   - Boosting starts by training a base model (weak learner) on the entire training dataset.\n",
    "\n",
    "2. **Weighting Examples:**\n",
    "   - After the first model is trained, each example in the training dataset is assigned a weight based on its classification error. Misclassified examples are given higher weights, while correctly classified examples receive lower weights.\n",
    "\n",
    "3. **Sequential Model Training:**\n",
    "   - A new model is trained on the dataset, with more emphasis given to examples that were misclassified by the previous models. This process is repeated for a predefined number of iterations or until a performance threshold is reached.\n",
    "\n",
    "4. **Weighted Voting:**\n",
    "   - At each step, the predictions of all models are combined, but the contribution of each model is weighted based on its performance on the training data. Models that perform well are given higher influence in the final prediction.\n",
    "\n",
    "5. **Adaptive Learning:**\n",
    "   - The boosting algorithm adapts by adjusting the weights of the examples at each iteration. Examples that are consistently misclassified receive higher weights, forcing subsequent models to focus more on getting these examples correct.\n",
    "\n",
    "6. **Final Prediction:**\n",
    "   - The final prediction is typically a weighted sum of the predictions of all the weak learners. In classification problems, a common approach is to use a weighted majority voting scheme, and in regression problems, a weighted average is often used.\n",
    "\n",
    "Popular boosting algorithms include:\n",
    "\n",
    "- **AdaBoost (Adaptive Boosting):** One of the earliest and most well-known boosting algorithms. It assigns weights to examples and focuses on misclassified examples in subsequent iterations.\n",
    "  \n",
    "- **Gradient Boosting:** A more general boosting algorithm that minimizes a loss function by adding weak learners sequentially. It uses gradient descent optimization to update the model at each iteration.\n",
    "\n",
    "- **XGBoost (Extreme Gradient Boosting):** An efficient and scalable implementation of gradient boosting that has become popular for its high performance and flexibility.\n",
    "\n",
    "Boosting is powerful but can be sensitive to noise and outliers in the data. It is important to tune hyperparameters carefully to prevent overfitting, and boosting algorithms often perform well when combined with decision trees as base models."
   ]
  },
  {
   "cell_type": "markdown",
   "id": "8c50ef10-1c52-4221-8bdf-69973644fbcb",
   "metadata": {},
   "source": [
    "# Q5. What are the benefits of using ensemble techniques?\n",
    "Ensemble techniques offer several benefits in machine learning, contributing to improved model performance, robustness, and generalization. Here are some key benefits of using ensemble techniques:\n",
    "\n",
    "1. **Improved Accuracy:**\n",
    "   - Ensembles often achieve higher accuracy than individual models. By combining multiple models, ensemble methods can compensate for the weaknesses of individual models and make more accurate predictions.\n",
    "\n",
    "2. **Robustness to Noise:**\n",
    "   - Ensembles are more robust to noise and outliers in the data. Outliers or misclassified examples in one model are less likely to significantly impact the overall prediction when combined with predictions from other models.\n",
    "\n",
    "3. **Reduced Overfitting:**\n",
    "   - Ensemble techniques, especially bagging, help reduce overfitting by combining predictions from multiple models that are trained on different subsets of the data. This results in a more generalized model that performs well on unseen data.\n",
    "\n",
    "4. **Handling Complexity:**\n",
    "   - Ensembles are capable of capturing complex relationships and patterns in the data. By combining the strengths of different models, ensembles can better handle intricate and non-linear relationships that may be challenging for individual models.\n",
    "\n",
    "5. **Versatility Across Algorithms:**\n",
    "   - Ensemble techniques can be applied to various machine learning algorithms, making them versatile. Whether it's decision trees, support vector machines, or neural networks, ensembles can be constructed to enhance the performance of different base models.\n",
    "\n",
    "6. **Adaptability to Diverse Data:**\n",
    "   - Ensembles can adapt well to diverse types of data and learning tasks. They are effective for both classification and regression problems, making them suitable for a wide range of applications.\n",
    "\n",
    "7. **Interpretability:**\n",
    "   - While individual models might be complex and difficult to interpret, the combination of simpler models in an ensemble can result in a more interpretable overall model. This is especially true for ensembles like Random Forests.\n",
    "\n",
    "8. **Ease of Implementation:**\n",
    "   - Ensembles are relatively easy to implement, especially with the availability of libraries and frameworks that provide pre-built implementations of popular ensemble algorithms. This allows practitioners to harness the power of ensembles without extensive manual effort.\n",
    "\n",
    "9. **State-of-the-Art Performance:**\n",
    "   - In various machine learning competitions and real-world applications, ensemble methods, particularly advanced algorithms like Gradient Boosting and XGBoost, have demonstrated state-of-the-art performance.\n",
    "\n",
    "10. **Reduction of Variance:**\n",
    "    - Ensemble methods, especially bagging, help reduce the variance of the model. By training models on different subsets of the data, the overall model is less sensitive to noise or outliers in any particular subset.\n",
    "\n",
    "11. **Parallelization:**\n",
    "    - Many ensemble algorithms, especially bagging methods, can be easily parallelized. This makes them computationally efficient, especially when dealing with large datasets.\n",
    "\n",
    "In summary, ensemble techniques provide a powerful and effective approach to enhancing machine learning models. Their ability to combine the strengths of different models and mitigate their weaknesses makes them a valuable tool in improving model robustness and predictive performance."
   ]
  },
  {
   "cell_type": "markdown",
   "id": "3d47b0d8-8c57-493d-b7aa-466d76bd2dbd",
   "metadata": {},
   "source": [
    "# Q6. Are ensemble techniques always better than individual models?\n",
    "While ensemble techniques often lead to improved performance compared to individual models, it's not always the case that ensembles are better in every scenario. The effectiveness of ensemble techniques depends on various factors, and there are situations where individual models may perform as well as, or even better than, ensembles. Here are some considerations:\n",
    "\n",
    "1. **Data Quality:**\n",
    "   - If the training data is of poor quality, noisy, or contains irrelevant features, ensembles might also capture these issues. In such cases, cleaning and preprocessing the data might be more crucial than relying on ensembles.\n",
    "\n",
    "2. **Model Complexity:**\n",
    "   - If the individual models in the ensemble are already complex and overfitted to the training data, combining them may not lead to significant improvements. Ensemble techniques are particularly effective when the base models are diverse and capture different aspects of the data.\n",
    "\n",
    "3. **Computational Resources:**\n",
    "   - Ensembles can be computationally more expensive than training and deploying a single model. In scenarios where computational resources are limited, and there are constraints on model deployment, the overhead of maintaining an ensemble might not be justified.\n",
    "\n",
    "4. **Interpretability:**\n",
    "   - Individual models might be more interpretable than ensembles, especially when transparency and explainability are crucial. If interpretability is a primary concern, a single, interpretable model might be preferred.\n",
    "\n",
    "5. **Applicability of Ensemble Methods:**\n",
    "   - Ensemble techniques are generally beneficial when there is variance in the training data, and different models can capture different patterns. In cases where there is little variance or patterns are straightforward, the benefits of ensembles might be limited.\n",
    "\n",
    "6. **Training Data Size:**\n",
    "   - In situations where the training dataset is small, ensembles might not provide a substantial advantage. Ensemble techniques often shine when there is enough diverse data to train different models effectively.\n",
    "\n",
    "7. **Choice of Ensemble Algorithm:**\n",
    "   - The choice of the ensemble algorithm matters. Some problems might be better suited for bagging methods (e.g., Random Forests), while others might benefit more from boosting methods (e.g., AdaBoost, XGBoost). The selection depends on the characteristics of the data and the learning task.\n",
    "\n",
    "8. **Task Specifics:**\n",
    "   - The nature of the learning task (classification, regression, etc.) and the specific requirements of the application can influence whether ensembles are the best choice. For example, in certain scenarios, a simpler model might be sufficient.\n",
    "\n",
    "9. **Hyperparameter Tuning:**\n",
    "   - Ensembles often require careful hyperparameter tuning to achieve optimal performance. In some cases, improper tuning may lead to suboptimal results, and individual models with well-tuned hyperparameters might perform better.\n",
    "\n",
    "In summary, while ensemble techniques are powerful tools in machine learning, their superiority over individual models is not guaranteed for every problem. The choice between using an ensemble or an individual model depends on the characteristics of the data, the complexity of the problem, and the specific goals of the modeling task. It's advisable to experiment with both approaches and carefully evaluate the performance in the context of the given problem."
   ]
  },
  {
   "cell_type": "markdown",
   "id": "9924c8ff-2a45-4664-ba84-ca0ec7b87a87",
   "metadata": {},
   "source": [
    "# Q7. How is the confidence interval calculated using bootstrap?\n",
    "\n",
    "Bootstrap is a resampling technique used in statistics to estimate the distribution of a statistic by resampling with replacement from the observed data. The confidence interval using bootstrap is calculated by constructing intervals from the distribution of a sample statistic obtained through multiple bootstrap samples. Here are the steps to calculate a bootstrap confidence interval:\n",
    "\n",
    "Collect Data:\n",
    "\n",
    "Obtain the original dataset with observed values.\n",
    "Resample with Replacement:\n",
    "\n",
    "Generate multiple bootstrap samples by randomly selecting data points from the original dataset with replacement. Each bootstrap sample has the same size as the original dataset.\n",
    "Calculate Statistic:\n",
    "\n",
    "For each bootstrap sample, calculate the statistic of interest (e.g., mean, median, standard deviation, etc.).\n",
    "Obtain Bootstrap Distribution:\n",
    "\n",
    "Create a distribution of the calculated statistic from the multiple bootstrap samples.\n",
    "Calculate Confidence Interval:\n",
    "\n",
    "Determine the confidence interval by finding the range of values that encloses a specified percentage of the bootstrap distribution. The most common confidence intervals are the two-tailed intervals, such as the 95% confidence interval.\n",
    "\n",
    "For a symmetric interval (e.g., 95% confidence interval), you can find the lower and upper bounds by taking the values at the 2.5th and 97.5th percentiles of the bootstrap distribution, respectively.\n",
    "\n",
    "Lower Bound\n",
    "=\n",
    "2.5th Percentile of Bootstrap Distribution\n",
    "Lower Bound=2.5th Percentile of Bootstrap Distribution\n",
    "Upper Bound\n",
    "=\n",
    "97.5th Percentile of Bootstrap Distribution\n",
    "Upper Bound=97.5th Percentile of Bootstrap Distribution\n",
    "\n",
    "For an asymmetric interval (e.g., if the bootstrap distribution is skewed), you can calculate percentiles accordingly.\n",
    "\n",
    "Here is a simplified example in Python to illustrate the process:"
   ]
  },
  {
   "cell_type": "code",
   "execution_count": 9,
   "id": "6dbe2213-74e5-4ee3-94cb-1a104e42334d",
   "metadata": {},
   "outputs": [
    {
     "name": "stdout",
     "output_type": "stream",
     "text": [
      "95% Confidence Interval: [3.70, 7.20]\n"
     ]
    }
   ],
   "source": [
    "import numpy as np\n",
    "\n",
    "# Original data\n",
    "original_data = np.array([1, 2, 3, 4, 5, 6, 7, 8, 9, 10])\n",
    "\n",
    "# Number of bootstrap samples\n",
    "num_samples = 1000\n",
    "\n",
    "# Bootstrap resampling\n",
    "bootstrap_samples = [np.random.choice(original_data, size=len(original_data), replace=True) for _ in range(num_samples)]\n",
    "\n",
    "# Calculate mean for each bootstrap sample\n",
    "bootstrap_means = np.mean(bootstrap_samples, axis=1)\n",
    "\n",
    "# Calculate 95% confidence interval\n",
    "lower_bound = np.percentile(bootstrap_means, 2.5)\n",
    "upper_bound = np.percentile(bootstrap_means, 97.5)\n",
    "\n",
    "print(f\"95% Confidence Interval: [{lower_bound:.2f}, {upper_bound:.2f}]\")\n"
   ]
  },
  {
   "cell_type": "markdown",
   "id": "07915875-7197-4403-b789-6655bc65a6e9",
   "metadata": {},
   "source": [
    "# Q8. How does bootstrap work and What are the steps involved in bootstrap?\n",
    "Bootstrap is a statistical resampling technique used to estimate the sampling distribution of a statistic by repeatedly resampling with replacement from the observed data. The primary goal is to infer properties of the population distribution without making strong parametric assumptions. Here are the steps involved in the bootstrap procedure:\n",
    "\n",
    "Original Data:\n",
    "\n",
    "Start with a dataset containing observed values. Let's denote this dataset as \n",
    "�\n",
    "X with \n",
    "�\n",
    "n data points.\n",
    "Resample with Replacement:\n",
    "\n",
    "Generate multiple bootstrap samples by randomly selecting \n",
    "�\n",
    "n data points from the original dataset with replacement. This means that each data point is equally likely to be selected in each draw, and some data points may be selected multiple times.\n",
    "Calculate Statistic:\n",
    "\n",
    "For each bootstrap sample, calculate the statistic of interest. This statistic could be the mean, median, standard deviation, variance, or any other measure that characterizes the distribution.\n",
    "Repeat Steps 2-3:\n",
    "\n",
    "Repeat the resampling and calculation process a large number of times (typically thousands or more) to obtain a collection of bootstrap samples and the corresponding statistics.\n",
    "Estimate Population Distribution:\n",
    "\n",
    "Use the distribution of the calculated statistics from the bootstrap samples to estimate the sampling distribution of the statistic. This distribution provides information about the variability of the statistic and can be used to construct confidence intervals or perform hypothesis testing.\n",
    "The key idea behind bootstrap is that, under certain conditions, the distribution of the statistic calculated from the bootstrap samples can be considered an approximation of the sampling distribution of the statistic in the population.\n",
    "\n",
    "Here's a simplified example in Python to illustrate the steps of bootstrap:"
   ]
  },
  {
   "cell_type": "code",
   "execution_count": 11,
   "id": "069a2c58-4c07-4f3d-929e-4204441048f7",
   "metadata": {},
   "outputs": [
    {
     "data": {
      "image/png": "[encoded data removed]",
      "text/plain": [
       "<Figure size 640x480 with 1 Axes>"
      ]
     },
     "metadata": {},
     "output_type": "display_data"
    }
   ],
   "source": [
    "import numpy as np\n",
    "\n",
    "# Original data\n",
    "original_data = np.array([1, 2, 3, 4, 5, 6, 7, 8, 9, 10])\n",
    "\n",
    "# Number of bootstrap samples\n",
    "num_samples = 1000\n",
    "\n",
    "# Bootstrap resampling\n",
    "bootstrap_samples = [np.random.choice(original_data, size=len(original_data), replace=True) for _ in range(num_samples)]\n",
    "\n",
    "# Calculate mean for each bootstrap sample\n",
    "bootstrap_means = np.mean(bootstrap_samples, axis=1)\n",
    "\n",
    "# Example: Plot histogram of bootstrap means\n",
    "import matplotlib.pyplot as plt\n",
    "\n",
    "plt.hist(bootstrap_means, bins=30, edgecolor='black')\n",
    "plt.title('Bootstrap Sampling Distribution of the Mean')\n",
    "plt.xlabel('Sample Mean')\n",
    "plt.ylabel('Frequency')\n",
    "plt.show()\n"
   ]
  },
  {
   "cell_type": "markdown",
   "id": "cfddcf09-5adc-483b-9d19-99fb07a7c0c2",
   "metadata": {},
   "source": [
    "# Q9. A researcher wants to estimate the mean height of a population of trees. They measure the height of asample of 50 trees and obtain a mean height of 15 meters and a standard deviation of 2 meters. Use bootstrap to estimate the 95% confidence interval for the population mean height.\n",
    "To estimate the 95% confidence interval for the population mean height using bootstrap, we can follow these steps:\r\n",
    "\r\n",
    "Original Data:\r\n",
    "\r\n",
    "The original data consists of the sample of 50 tree heights with a mean of 15 meters and a standard deviation of 2 meters.\r\n",
    "Resample with Replacement:\r\n",
    "\r\n",
    "Generate multiple bootstrap samples by randomly selecting 50 tree heights from the original sample with replacement.\r\n",
    "Calculate Bootstrap Mean:\r\n",
    "\r\n",
    "For each bootstrap sample, calculate the mean height.\r\n",
    "Repeat Steps 2-3:\r\n",
    "\r\n",
    "Repeat the resampling and calculation process a large number of times (e.g., 10,000 times) to obtain a distribution of bootstrap sample means.\r\n",
    "Calculate Confidence Interval:\r\n",
    "\r\n",
    "Determine the 95% confidence interval by finding the 2.5th and 97.5th percentiles of the distribution of bootstrap sample means.\r\n",
    "Let's implemen\n",
    "t this in Python:"
   ]
  },
  {
   "cell_type": "code",
   "execution_count": 13,
   "id": "ff6e6f28-9dc8-4c12-9486-30fa88179a28",
   "metadata": {},
   "outputs": [
    {
     "name": "stdout",
     "output_type": "stream",
     "text": [
      "95% Confidence Interval for the Mean Height: [14.48, 15.64] meters\n"
     ]
    }
   ],
   "source": [
    "import numpy as np\r\n",
    "\r\n",
    "# Original sample data\r\n",
    "original_data = np.random.normal(loc=15, scale=2, size=50)  # Simulating tree heights\r\n",
    "\r\n",
    "# Number of bootstrap samples\r\n",
    "num_samples = 10000\r\n",
    "\r\n",
    "# Bootstrap resampling\r\n",
    "bootstrap_means = [np.mean(np.random.choice(original_data, size=50, replace=True)) for _ in range(num_samples)]\r\n",
    "\r\n",
    "# Calculate 95% confidence interval\r\n",
    "confidence_interval = np.percentile(bootstrap_means, [2.5, 97.5])\r\n",
    "\r\n",
    "print(f\"95% Confidence Interval for the Mean Height: [{confidence_interval[0]:.2f}, {confidence_interval[1]:.2f}] meters\")\r\n"
   ]
  },
  {
   "cell_type": "code",
   "execution_count": null,
   "id": "f38a3d0d-de1b-43b6-a96f-1d8eb7ab783d",
   "metadata": {},
   "outputs": [],
   "source": []
  },
  {
   "cell_type": "code",
   "execution_count": null,
   "id": "c4a2ce54-899a-46e2-a03a-b482876b6f7b",
   "metadata": {},
   "outputs": [],
   "source": []
  },
  {
   "cell_type": "code",
   "execution_count": null,
   "id": "18dcf883-d339-4878-aa23-13c723d3c1b2",
   "metadata": {},
   "outputs": [],
   "source": []
  },
  {
   "cell_type": "code",
   "execution_count": null,
   "id": "a0813ce3-5f9e-4901-adf0-e947eb61fabc",
   "metadata": {},
   "outputs": [],
   "source": []
  },
  {
   "cell_type": "code",
   "execution_count": null,
   "id": "7cb4aaed-fc3a-4a6c-a4e2-51dddb01313d",
   "metadata": {},
   "outputs": [],
   "source": []
  },
  {
   "cell_type": "code",
   "execution_count": null,
   "id": "f230bc9e-caed-4c78-8cd8-a270b0d18458",
   "metadata": {},
   "outputs": [],
   "source": []
  },
  {
   "cell_type": "code",
   "execution_count": null,
   "id": "dcfd0f65-2aaf-4d12-9b26-2e78624f1381",
   "metadata": {},
   "outputs": [],
   "source": []
  },
  {
   "cell_type": "code",
   "execution_count": null,
   "id": "1c05fa1c-75f5-4ee0-bef2-c4089f4eb9fa",
   "metadata": {},
   "outputs": [],
   "source": []
  },
  {
   "cell_type": "code",
   "execution_count": null,
   "id": "37c732e8-9d91-45e9-8fe7-ebb46a59b762",
   "metadata": {},
   "outputs": [],
   "source": []
  },
  {
   "cell_type": "code",
   "execution_count": null,
   "id": "4a2f9222-fb86-470b-8820-a23e2b63a5ce",
   "metadata": {},
   "outputs": [],
   "source": []
  },
  {
   "cell_type": "code",
   "execution_count": null,
   "id": "8b824d26-2b4d-4dd2-872c-ba97b1abfcd6",
   "metadata": {},
   "outputs": [],
   "source": []
  },
  {
   "cell_type": "code",
   "execution_count": null,
   "id": "a78156f6-2db7-49e0-af65-09cfb4731234",
   "metadata": {},
   "outputs": [],
   "source": []
  },
  {
   "cell_type": "code",
   "execution_count": null,
   "id": "ba8ea494-3d00-4110-ac68-cc2ff72762bb",
   "metadata": {},
   "outputs": [],
   "source": []
  },
  {
   "cell_type": "code",
   "execution_count": null,
   "id": "86b81726-e929-45f2-8330-caacbf59c4af",
   "metadata": {},
   "outputs": [],
   "source": []
  },
  {
   "cell_type": "code",
   "execution_count": null,
   "id": "fb930f68-ea14-4bc1-b299-e68992d210c6",
   "metadata": {},
   "outputs": [],
   "source": []
  },
  {
   "cell_type": "code",
   "execution_count": null,
   "id": "3ea6a266-2d5d-4ee7-8db5-e92d61888614",
   "metadata": {},
   "outputs": [],
   "source": []
  },
  {
   "cell_type": "code",
   "execution_count": null,
   "id": "b15f39fd-09d2-41bd-afa4-fd2b7104e671",
   "metadata": {},
   "outputs": [],
   "source": []
  },
  {
   "cell_type": "code",
   "execution_count": null,
   "id": "f72f2818-91f5-42a2-ab65-0d7ca283363c",
   "metadata": {},
   "outputs": [],
   "source": []
  },
  {
   "cell_type": "code",
   "execution_count": null,
   "id": "8194acf4-3523-4975-a747-c1c459227529",
   "metadata": {},
   "outputs": [],
   "source": []
  },
  {
   "cell_type": "code",
   "execution_count": null,
   "id": "f81bf831-26a8-42b2-83f6-7200105c9426",
   "metadata": {},
   "outputs": [],
   "source": []
  },
  {
   "cell_type": "code",
   "execution_count": null,
   "id": "075d37ed-3e60-47ab-a37a-1f435b09d724",
   "metadata": {},
   "outputs": [],
   "source": []
  },
  {
   "cell_type": "code",
   "execution_count": null,
   "id": "9aa83f1b-0372-4371-8ad9-8c09178403fa",
   "metadata": {},
   "outputs": [],
   "source": []
  },
  {
   "cell_type": "code",
   "execution_count": null,
   "id": "d443dca2-84d7-4565-a67f-ccb623f8af5e",
   "metadata": {},
   "outputs": [],
   "source": []
  },
  {
   "cell_type": "code",
   "execution_count": null,
   "id": "458c2995-0d67-4e69-863f-45b4f3cd68d6",
   "metadata": {},
   "outputs": [],
   "source": []
  },
  {
   "cell_type": "code",
   "execution_count": null,
   "id": "44f4d341-0196-4360-8133-10945d74da9a",
   "metadata": {},
   "outputs": [],
   "source": []
  },
  {
   "cell_type": "code",
   "execution_count": null,
   "id": "0d770101-b8fd-4217-a6cf-2afa4eb03314",
   "metadata": {},
   "outputs": [],
   "source": []
  },
  {
   "cell_type": "code",
   "execution_count": null,
   "id": "04b916ac-e259-4d55-b904-30afde900fab",
   "metadata": {},
   "outputs": [],
   "source": []
  },
  {
   "cell_type": "code",
   "execution_count": null,
   "id": "bc787cce-fb3c-4666-9dc7-31e22ff272a7",
   "metadata": {},
   "outputs": [],
   "source": []
  }
 ],
 "metadata": {
  "kernelspec": {
   "display_name": "Python 3 (ipykernel)",
   "language": "python",
   "name": "python3"
  },
  "language_info": {
   "codemirror_mode": {
    "name": "ipython",
    "version": 3
   },
   "file_extension": ".py",
   "mimetype": "text/x-python",
   "name": "python",
   "nbconvert_exporter": "python",
   "pygments_lexer": "ipython3",
   "version": "3.11.4"
  },
  "widgets": {
   "application/vnd.jupyter.widget-state+json": {
    "state": {},
    "version_major": 2,
    "version_minor": 0
   }
  }
 },
 "nbformat": 4,
 "nbformat_minor": 5
}
